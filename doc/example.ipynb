{
 "cells": [
  {
   "cell_type": "markdown",
   "metadata": {},
   "source": [
    "# iEBPR simulation example\n",
    "\n",
    "iEBPR is an agent-based model for simulating PAO-GAO competition."
   ]
  },
  {
   "cell_type": "markdown",
   "metadata": {},
   "source": [
    "# Installation\n",
    "\n",
    "Installation (building from source) requires:\n",
    "\n",
    "* setuptools >= 61.0.0\n",
    "* numpy >= 1.15.0\n",
    "* C++ compiler (supporting C++11)\n",
    "\n",
    "Then build & install with\n",
    "\n",
    "```bash\n",
    "pip install ./\n",
    "```"
   ]
  },
  {
   "cell_type": "markdown",
   "metadata": {},
   "source": [
    "# Example run\n",
    "\n",
    "## 1. Setup simulation basics"
   ]
  },
  {
   "cell_type": "code",
   "execution_count": null,
   "metadata": {},
   "outputs": [],
   "source": [
    "import numpy\n",
    "import matplotlib.pyplot\n",
    "\n",
    "import iebpr\n",
    "from iebpr import Simulation, EnvState, SbrPhase, SbrStage, RandType, \\\n",
    "\tAgentSubtype, RandConfig, StateRandConfig, TraitRandConfig\n",
    "\n",
    "simulation = Simulation(seed=0, pcontinuous=True, timestep=1e-5)"
   ]
  },
  {
   "cell_type": "markdown",
   "metadata": {},
   "source": [
    "`seed` sets the random seed, default is 0.\n",
    "\n",
    "`pcontinuous` sets the simulation type, `True` for pseudo-continuous and `False`\n",
    "\tfor discrete-time.\n",
    "\t\n",
    "Both discrete-time and pseudo-continuous simulations process a fixed number of agents during each timestep (total number of agents).  Discrete-time simulation traverses through all existing agents in each timestep and updates the environmental states all together thereafter. On the other hand, pseudo-continuous simulation randomly selects agents to process during each time step and immediately update envrionmental states after each agent's action. In general, pseudo-continuous is closer to a continuous state simulation and therefore more precise, but can take significantly longer to finish.\n",
    "\n",
    "`timestep` sets the simulation timestep, i.e. the scale of `dt` to calculate agent and environment state changes.\n",
    "\n",
    "The above configuration is equivalent to:\n",
    "\n",
    "```python\n",
    "simulation = Simulation()\n",
    "simulation.seed = 0\n",
    "simulation.pcontiuous = True\n",
    "simulation.timestep = 1e-5\n",
    "```\n",
    "\n",
    "Likewise, both ways are compatible with most of other data objects in `iebpr`."
   ]
  },
  {
   "cell_type": "markdown",
   "metadata": {},
   "source": [
    "## 2. Setup SBR workflow\n",
    "\n",
    "### 2.1 Setup initial environment states\n",
    "\n",
    "These are the initial state of the simulated reactor at the beginning of the simulation. They can be configured with:"
   ]
  },
  {
   "cell_type": "code",
   "execution_count": null,
   "metadata": {},
   "outputs": [],
   "source": [
    "simulation.init_env = EnvState(\n",
    "\tvolume=40, # in L\n",
    "\tvfa_conc=0, # in mgCOD/L\n",
    "\top_conc=0, # in mgP/L\n",
    ")"
   ]
  },
  {
   "cell_type": "markdown",
   "metadata": {},
   "source": [
    "### 2.2 Setup SBR control\n",
    "\n",
    "SBR is controlled in stages, and stages are composed by phases. Each phase sets the SBR states like inflow, outflow, or aeration to a duration (`time_len`). The time unit used by `iebpr` is day, so unit conversions may be necessary. The explicit way to create a phase is:"
   ]
  },
  {
   "cell_type": "code",
   "execution_count": null,
   "metadata": {},
   "outputs": [],
   "source": [
    "inflow_phase = SbrPhase(\n",
    "\ttime_len=30 / 60 / 24, # 30min->day, the duration\n",
    "\tinflow_rate=5 / (30 / 60 / 24), # input 5L/30min -> L/day\n",
    "\tinflow_vfa_conc=200, # in mgCOD/L\n",
    "\tinflow_op_conc=25, # in mgP/L\n",
    "\taeration=False,\n",
    ")"
   ]
  },
  {
   "cell_type": "markdown",
   "metadata": {},
   "source": [
    "Then create more phases:"
   ]
  },
  {
   "cell_type": "code",
   "execution_count": null,
   "metadata": {},
   "outputs": [],
   "source": [
    "anaerobic_phase = SbrPhase(\n",
    "\ttime_len=90 / 60 / 24,\n",
    "\taeration=False,\n",
    ")\n",
    "\n",
    "aerobic_phase = SbrPhase(\n",
    "\ttime_len=180 / 60 / 24,\n",
    "\taeration=True,\n",
    ")\n",
    "\n",
    "withdraw_phase = SbrPhase(\n",
    "\ttime_len=30 / 60 / 24,\n",
    "\t# withdraw discards biomass based on outflow volume\n",
    "\t# vfa, op, and biomass conc. remain the same during withdraw\n",
    "\twithdraw_rate=1 / (30 / 60 / 24),\n",
    "\taeration=True,\n",
    ")\n",
    "\n",
    "outflow_phase = SbrPhase(\n",
    "\ttime_len=30 / 60 / 24,\n",
    "\t# outflow reduces reactor living volume without reducing biomass\n",
    "\t# this will result in biomass conc. increase\n",
    "\toutflow_rate=4 / (30 / 60 / 24),\n",
    "\taeration=True,\n",
    ")"
   ]
  },
  {
   "cell_type": "markdown",
   "metadata": {},
   "source": [
    "Finally, compose all phases as a stage, and add the stage to the simulation:"
   ]
  },
  {
   "cell_type": "code",
   "execution_count": null,
   "metadata": {},
   "outputs": [],
   "source": [
    "# create stage from phases configs\n",
    "stage = SbrStage(\n",
    "\tn_cycle=100,\n",
    "\tcycle_phases=[\n",
    "\t\tinflow_phase,\n",
    "\t\tanaerobic_phase,\n",
    "\t\taerobic_phase,\n",
    "\t\twithdraw_phase,\n",
    "\t\toutflow_phase,\n",
    "\t]\n",
    ")\n",
    "\n",
    "# check if flow is balanced\n",
    "print(\"stage flow balanced:\", stage.is_flow_balanced())\n",
    "\n",
    "# add to SBR control\n",
    "simulation.append_sbr_stage(stage)"
   ]
  },
  {
   "cell_type": "markdown",
   "metadata": {},
   "source": [
    "When a stage is on, the SBR will be controlled to cycle through all of the stage's phases in the added order. In this example, it will go through inflow, anaerobic, aerobic, withdraw, and outflow phases in a row to complete a said \"cycle\". Each stage will complete `n_cycle` number of cycles before moving to the next stage. The simulation will stop upon finishing the last cycle of the last stage.\n",
    "\n",
    "It's usually assumed that the input volume is equal to the output volume, leaving the reactor's volume unchanged upon finishing of each cycle. In this case, the configured stage has 5L input volume from `inflow_phase`, and 5L output volume (as a combination of 1L in `withdraw_phase` and 4L in `outflow_phase`). To explicitly check this, do:\n",
    "\n",
    "```python\n",
    "stage.is_flow_balanced() # return True if balanced\n",
    "```\n",
    "\n",
    "In addition,\n",
    "\n",
    "```python\n",
    "simulation.is_flow_balanced()\n",
    "```\n",
    "\n",
    "can be invoked to check if *all* stages have balanced flow."
   ]
  },
  {
   "cell_type": "markdown",
   "metadata": {},
   "source": [
    "## 3. Setup biomass\n",
    "\n",
    "In `ibepr`, the biomass agents are randomly generated to emulate the heterogeneity. Therefore, the agent states and traits are configured through randomizing parameters rather than explicitly setting the values. The randomizing parameters can be stored in `json` files similar to examples illustrated in `doc/example.gao_trait.json`. Alternatively, `iebpr.agent_template.get_template()` can be invoked as a good starting point, for example:\n",
    "\n",
    "```\n",
    "oho_trait_template = iebpr.agent_template.get_template(\"oho_trait\")\n",
    "```\n",
    "\n",
    "The templates give a hint at what fields will be used in calculations. However, they do *NOT* imply that the template values are meaningful or defaults. Calibration are *ALWAYS* needed to simulate real experimental data.\n",
    "\n",
    "`iebpr` provides three types of agent subtypes:\n",
    "\n",
    "* `AgentSubtype.pao`\n",
    "* `AgentSubtype.gao`\n",
    "* `AgentSubtype.oho`\n",
    "\n",
    "each corresponds to a specific suite of bioprocess equations. To add a new agent subtype to the simulation, call:"
   ]
  },
  {
   "cell_type": "code",
   "execution_count": null,
   "metadata": {},
   "outputs": [],
   "source": [
    "# pao\n",
    "simulation.add_agent_subtype(\n",
    "\tAgentSubtype.pao,\n",
    "\tn_agent=100,\n",
    "\tstate_cfg=StateRandConfig(\n",
    "\t\tbiomass=RandConfig(RandType.normal, mean=100, stddev=10),\n",
    "\t\tglycogen=RandConfig(RandType.normal, mean=10, stddev=2),\n",
    "\t\tpha=RandConfig(RandType.normal, mean=20, stddev=2),\n",
    "\t\tpolyp=RandConfig(RandType.normal, mean=15, stddev=2),\n",
    "\t),\n",
    "\ttrait_cfg=iebpr.agent_template.randconfig_from_template_json(\n",
    "\t\t\"example.pao_trait.json\"\n",
    "\t),\n",
    ")"
   ]
  },
  {
   "cell_type": "markdown",
   "metadata": {},
   "source": [
    "The built-in function `iebpr.agent_template.randconfig_from_template_json()` reads the above-said json file and return a corresponding state or trait randomizer configuration set.\n",
    "\n",
    "Importantly, the `state` values are initial values at bulk-level. In the above example, the added pao subtype will have 100mgCOD biomass/L at the beginning of the simulation. Since it is configured to have 100 agents, each agent will be 1mgCOD biomass/L on average.\n",
    "\n",
    "Similarly, add other subtypes to the simulation:"
   ]
  },
  {
   "cell_type": "code",
   "execution_count": null,
   "metadata": {},
   "outputs": [],
   "source": [
    "# gao\n",
    "simulation.add_agent_subtype(\n",
    "\tAgentSubtype.gao,\n",
    "\tn_agent=100,\n",
    "\tstate_cfg=StateRandConfig(\n",
    "\t\tbiomass=RandConfig(RandType.normal, mean=100, stddev=10),\n",
    "\t\tglycogen=RandConfig(RandType.normal, mean=10, stddev=2),\n",
    "\t\tpha=RandConfig(RandType.normal, mean=20, stddev=2),\n",
    "\t),\n",
    "\ttrait_cfg=iebpr.agent_template.randconfig_from_template_json(\n",
    "\t\t\"example.gao_trait.json\"\n",
    "\t),\n",
    ")\n",
    "\n",
    "# oho\n",
    "simulation.add_agent_subtype(\n",
    "\tAgentSubtype.oho,\n",
    "\tn_agent=50,\n",
    "\tstate_cfg=StateRandConfig(\n",
    "\t\tbiomass=RandConfig(RandType.normal, mean=100, stddev=10),\n",
    "\t),\n",
    "\ttrait_cfg=iebpr.agent_template.randconfig_from_template_json(\n",
    "\t\t\"example.oho_trait.json\"\n",
    "\t),\n",
    ")"
   ]
  },
  {
   "cell_type": "markdown",
   "metadata": {},
   "source": [
    "## 4. Setup recording\n",
    "\n",
    "Recording controls how and when to record the environment and agent states during the simulation run. There are two types of recordings:\n",
    "\n",
    "* state recording: records environmental states and bulk-level agent states. This recording can be compared with bulk-level measurements such as vfa, op, and biomass concentrations.\n",
    "* snapshot recording: records all states of all individual agents. This recording shows the distribution of glycogen, pha, and polyp over each subtype and can be compared with single-cell level measurements.\n",
    "\n",
    "To setup the recording timepoints, run:"
   ]
  },
  {
   "cell_type": "code",
   "execution_count": null,
   "metadata": {},
   "outputs": [],
   "source": [
    "last_cycle_start_time = simulation.total_time_len - stage.cycle_time_len\n",
    "\n",
    "# state_rec_timepoints\n",
    "# record the bulk-level environment and agent states during the last cycle\n",
    "timepoints = numpy.linspace(\n",
    "\tlast_cycle_start_time, # start of the last cycle\n",
    "\tsimulation.total_time_len, # end of the last cycle\n",
    "\t1000, # number of recording timepoints\n",
    ")\n",
    "simulation.set_state_rec_timepoints(timepoints)\n",
    "\n",
    "# snapshot_rec_timepoints\n",
    "timepoints = [\n",
    "\t# start of anaerobic phase\n",
    "\tlast_cycle_start_time + inflow_phase.time_len,\n",
    "\t# end of anaerobic phase / start of aerobic phase\n",
    "\tlast_cycle_start_time + inflow_phase.time_len + anaerobic_phase.time_len,\n",
    "\t# end of aerobic phase\n",
    "\tlast_cycle_start_time + inflow_phase.time_len + anaerobic_phase.time_len\n",
    "\t\t+ anaerobic_phase.time_len,\n",
    "]\n",
    "simulation.set_snapshot_rec_timepoints(timepoints)"
   ]
  },
  {
   "cell_type": "markdown",
   "metadata": {},
   "source": [
    "## 5. Run simulation\n",
    "\n",
    "After SBR, agent, and recording configurations are done, call `simulation.run()` to run the simulation. The simlation will internally validate itself and catch some ill-formed parameters.\n",
    "\n",
    "Optionally, `simulation.get_run_duration()` can be used to show the wall-clock duration of the last run in miliseconds."
   ]
  },
  {
   "cell_type": "code",
   "execution_count": null,
   "metadata": {},
   "outputs": [],
   "source": [
    "simulation.run()\n",
    "\n",
    "print(\"last run duration: %.3fsec\" % (simulation.get_run_duration() / 1000))"
   ]
  },
  {
   "cell_type": "markdown",
   "metadata": {},
   "source": [
    "## 6. Plot results\n",
    "\n",
    "### 6.1 Plot environment state recording"
   ]
  },
  {
   "cell_type": "code",
   "execution_count": null,
   "metadata": {},
   "outputs": [],
   "source": [
    "# retrieve recording data from the simulation by\n",
    "env_state_rec = simulation.retrieve_env_state_rec()\n",
    "\n",
    "# have a peek\n",
    "env_state_rec"
   ]
  },
  {
   "cell_type": "markdown",
   "metadata": {},
   "source": [
    "The recoding data is a 1-dim array with 4 fields: `volume`, `vfa_conc`, `op_conc`, and `is_aerobic`. Plotting the results can be easy, using `op_conc` as an example:"
   ]
  },
  {
   "cell_type": "code",
   "execution_count": null,
   "metadata": {},
   "outputs": [],
   "source": [
    "matplotlib.pyplot.plot(simulation.get_state_rec_timepoints(), env_state_rec[\"op_conc\"])\n",
    "matplotlib.pyplot.ylim(0, None)\n",
    "matplotlib.pyplot.xlabel(\"day\")\n",
    "matplotlib.pyplot.ylabel(\"op (mgP/L)\");"
   ]
  },
  {
   "cell_type": "markdown",
   "metadata": {},
   "source": [
    "### 6.2 Plot agent state recording"
   ]
  },
  {
   "cell_type": "code",
   "execution_count": null,
   "metadata": {},
   "outputs": [],
   "source": [
    "# similarly, retrieve recording data by\n",
    "agent_state_rec = simulation.retrieve_agent_state_rec()\n",
    "\n",
    "# have a peek\n",
    "agent_state_rec"
   ]
  },
  {
   "cell_type": "markdown",
   "metadata": {},
   "source": [
    "It is 2-dim array with the first dimension being recording timepoints and the second being agent subtypes. Each recording has 5 fields: `biomass`, `rela_count`, `glycogen`, `pha`, and `polyp`, despite that some subtypes may not use all of these fields. The agent subtypes dimension corresponds to the subtypes' added order, represented by calling:"
   ]
  },
  {
   "cell_type": "code",
   "execution_count": null,
   "metadata": {},
   "outputs": [],
   "source": [
    "subtypes = simulation.n_agent_by_subtype\n",
    "\n",
    "subtypes"
   ]
  },
  {
   "cell_type": "markdown",
   "metadata": {},
   "source": [
    "For example, to plot pao polyp during the last cycle:"
   ]
  },
  {
   "cell_type": "code",
   "execution_count": null,
   "metadata": {},
   "outputs": [],
   "source": [
    "subtype_idx = 0 # plot the first added subtype\n",
    "\n",
    "matplotlib.pyplot.plot(simulation.get_state_rec_timepoints(),\n",
    "\tagent_state_rec[:, subtype_idx][\"polyp\"])\n",
    "matplotlib.pyplot.ylim(0, None)\n",
    "matplotlib.pyplot.xlabel(\"day\")\n",
    "matplotlib.pyplot.ylabel(\"polyp (mgP/L)\")\n",
    "matplotlib.pyplot.title(subtypes[subtype_idx][0]);"
   ]
  },
  {
   "cell_type": "markdown",
   "metadata": {},
   "source": [
    "### 6.3 Plot agent snapshot recording"
   ]
  },
  {
   "cell_type": "code",
   "execution_count": null,
   "metadata": {},
   "outputs": [],
   "source": [
    "# similarly, retrieve recording data by\n",
    "snapshot_rec = simulation.retrieve_snapshot_rec()\n",
    "\n",
    "# have a peek\n",
    "snapshot_rec"
   ]
  },
  {
   "cell_type": "markdown",
   "metadata": {},
   "source": [
    "The snapshot recording data is a list of 2-dim arrays. Arrays represent the snapshots of subtypes in added order. The first dimension of each array represents the snapshot recording timepoints and the second dimension represents the agents in the subtype. For example, to find the snapshot of pao (first added subtype as index 0) at the end of anaerobic phase (the 3nd snapshot recording timepoints as index 2):"
   ]
  },
  {
   "cell_type": "code",
   "execution_count": null,
   "metadata": {},
   "outputs": [],
   "source": [
    "snapshot_rec[0][2]"
   ]
  },
  {
   "cell_type": "markdown",
   "metadata": {},
   "source": [
    "Below is an example to plot polyp distribution of intracellular polyp of pao at the end of aerobic phase:"
   ]
  },
  {
   "cell_type": "code",
   "execution_count": null,
   "metadata": {},
   "outputs": [],
   "source": [
    "subtype_idx = 0 # the 1st added subtype (pao)\n",
    "snapshot_idx = 2 # the 3rd snapshot recording (end of aerobic phase)\n",
    "field = \"polyp\"\n",
    "\n",
    "# use this utility function to esimate the distribution\n",
    "pop_cumu, norm_content = iebpr.util.estimate_subtype_distrib_from_snapshot(\n",
    "\tsnapshot_rec[subtype_idx][snapshot_idx], field=field,\n",
    ")\n",
    "\n",
    "matplotlib.pyplot.plot(pop_cumu, norm_content)\n",
    "matplotlib.pyplot.xlim(0, 1)\n",
    "matplotlib.pyplot.ylim(0, None)\n",
    "matplotlib.pyplot.xlabel(\"population fraction\")\n",
    "matplotlib.pyplot.ylabel(\"%s content (mgP/mgCOD biomass)\" % field)\n",
    "matplotlib.pyplot.title(\"%s in %s at day %.2f\" % (field, subtypes[subtype_idx][0],\n",
    "\tsimulation.get_snapshot_rec_timepoints()[snapshot_idx])\n",
    ");"
   ]
  }
 ],
 "metadata": {
  "kernelspec": {
   "display_name": "python-3.11-venv-generic",
   "language": "python",
   "name": "python3"
  },
  "language_info": {
   "codemirror_mode": {
    "name": "ipython",
    "version": 3
   },
   "file_extension": ".py",
   "mimetype": "text/x-python",
   "name": "python",
   "nbconvert_exporter": "python",
   "pygments_lexer": "ipython3",
   "version": "3.11.7"
  }
 },
 "nbformat": 4,
 "nbformat_minor": 2
}
